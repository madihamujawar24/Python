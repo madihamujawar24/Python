{
  "nbformat": 4,
  "nbformat_minor": 0,
  "metadata": {
    "colab": {
      "provenance": []
    },
    "kernelspec": {
      "name": "python3",
      "display_name": "Python 3"
    },
    "language_info": {
      "name": "python"
    }
  },
  "cells": [
    {
      "cell_type": "markdown",
      "source": [
        "# 1.1 Removing HTML Tags: Using RE"
      ],
      "metadata": {
        "id": "p1vh6D19jx0c"
      }
    },
    {
      "cell_type": "code",
      "execution_count": 1,
      "metadata": {
        "colab": {
          "base_uri": "https://localhost:8080/"
        },
        "id": "sdsg1Otjjmxy",
        "outputId": "964c7a53-a513-48f3-fd6d-d5e7ee6bd41f"
      },
      "outputs": [
        {
          "output_type": "stream",
          "name": "stdout",
          "text": [
            "This is a HeadingThis is a paragraph.\n"
          ]
        }
      ],
      "source": [
        "import re\n",
        "\n",
        "def remove_html_tags(text):\n",
        "    clean = re.compile('<.*?>')  # Regular expression to find HTML tags\n",
        "    return re.sub(clean, '', text)\n",
        "\n",
        "html_text = \"<h1>This is a Heading</h1><p>This is a paragraph.</p>\"\n",
        "clean_text = remove_html_tags(html_text)\n",
        "\n",
        "print(clean_text)\n"
      ]
    },
    {
      "cell_type": "markdown",
      "source": [
        "#1.2 Removing HTML Tags: Using HTML parser like BeautifulSoup"
      ],
      "metadata": {
        "id": "EX7PZEQBkGQb"
      }
    },
    {
      "cell_type": "code",
      "source": [
        "from bs4 import BeautifulSoup\n",
        "\n",
        "def remove_html_tags(text):\n",
        "    soup = BeautifulSoup(text, \"html.parser\")\n",
        "    return soup.get_text()\n",
        "\n",
        "html_text = \"<h1>This is a Heading</h1><p>This is a paragraph.</p>\"\n",
        "clean_text = remove_html_tags(html_text)\n",
        "\n",
        "print(clean_text)\n"
      ],
      "metadata": {
        "colab": {
          "base_uri": "https://localhost:8080/"
        },
        "id": "kOUda-y1kbJD",
        "outputId": "5126b1b3-6991-40b8-8c6e-9020761af123"
      },
      "execution_count": 2,
      "outputs": [
        {
          "output_type": "stream",
          "name": "stdout",
          "text": [
            "This is a HeadingThis is a paragraph.\n"
          ]
        }
      ]
    },
    {
      "cell_type": "markdown",
      "source": [
        "#2.1 Removing Emojies: Using Regular Expressions (Unicode Ranges for Emojis)"
      ],
      "metadata": {
        "id": "62y1rNOQnwty"
      }
    },
    {
      "cell_type": "code",
      "source": [
        "import re\n",
        "\n",
        "def remove_emojis(text):\n",
        "    # Define a regex pattern that matches emoji characters\n",
        "    emoji_pattern = re.compile(\n",
        "        \"[\"\n",
        "        u\"\\U0001F600-\\U0001F64F\"  # Emoticons\n",
        "        u\"\\U0001F300-\\U0001F5FF\"  # Miscellaneous Symbols and Pictographs\n",
        "        u\"\\U0001F680-\\U0001F6FF\"  # Transport and Map Symbols\n",
        "        u\"\\U0001F1E0-\\U0001F1FF\"  # Flags (iOS)\n",
        "        u\"\\U00002702-\\U000027B0\"  # Dingbats\n",
        "        u\"\\U000024C2-\\U0001F251\"  # Enclosed characters\n",
        "        \"]+\", flags=re.UNICODE\n",
        "    )\n",
        "    return emoji_pattern.sub(r'', text)\n",
        "\n",
        "# Example usage\n",
        "text_with_emojis = \"Hello 😀! How are you? 🚀💡\"\n",
        "clean_text = remove_emojis(text_with_emojis)\n",
        "\n",
        "print(f\"Original: {text_with_emojis}\")\n",
        "print(f\"Without Emojis: {clean_text}\")\n"
      ],
      "metadata": {
        "colab": {
          "base_uri": "https://localhost:8080/"
        },
        "id": "JOSuTl8mn7Jx",
        "outputId": "4d082c58-7041-44c7-97a6-36b61a858beb"
      },
      "execution_count": 3,
      "outputs": [
        {
          "output_type": "stream",
          "name": "stdout",
          "text": [
            "Original: Hello 😀! How are you? 🚀💡\n",
            "Without Emojis: Hello ! How are you? \n"
          ]
        }
      ]
    },
    {
      "cell_type": "markdown",
      "source": [
        "#2.2 Removing Emojies: Using emoji library (If you prefer third-party library)"
      ],
      "metadata": {
        "id": "KHsJbZjboHQq"
      }
    },
    {
      "cell_type": "code",
      "source": [
        "!pip install emoji"
      ],
      "metadata": {
        "id": "AQaJB1UsodMA"
      },
      "execution_count": null,
      "outputs": []
    },
    {
      "cell_type": "code",
      "source": [
        "import emoji\n",
        "\n",
        "def remove_emojis(text):\n",
        "    return emoji.replace_emoji(text, replace='')\n",
        "\n",
        "# Example usage\n",
        "text_with_emojis = \"Hello 😀! How are you? 🚀💡\"\n",
        "clean_text = remove_emojis(text_with_emojis)\n",
        "\n",
        "print(f\"Original: {text_with_emojis}\")\n",
        "print(f\"Without Emojis: {clean_text}\")\n"
      ],
      "metadata": {
        "colab": {
          "base_uri": "https://localhost:8080/"
        },
        "id": "7nyNqPbGolWo",
        "outputId": "5c7265ff-83a1-48c0-eb82-05e2d25e809e"
      },
      "execution_count": 5,
      "outputs": [
        {
          "output_type": "stream",
          "name": "stdout",
          "text": [
            "Original: Hello 😀! How are you? 🚀💡\n",
            "Without Emojis: Hello ! How are you? \n"
          ]
        }
      ]
    },
    {
      "cell_type": "markdown",
      "source": [
        "# 3.1 Spelling Check: Using TextBlob"
      ],
      "metadata": {
        "id": "ombk2Bq-pGKn"
      }
    },
    {
      "cell_type": "code",
      "source": [
        "!pip install textblob\n"
      ],
      "metadata": {
        "id": "8_8LPoBtpWdU"
      },
      "execution_count": null,
      "outputs": []
    },
    {
      "cell_type": "code",
      "source": [
        "from textblob import TextBlob\n",
        "\n",
        "def correct_spelling(text):\n",
        "    blob = TextBlob(text)\n",
        "    corrected_text = blob.correct()\n",
        "    return str(corrected_text)\n",
        "\n",
        "# Example usage\n",
        "text_with_typos = \"I havv a speling misstake in this sentnce.\"\n",
        "corrected_text = correct_spelling(text_with_typos)\n",
        "\n",
        "print(f\"Original: {text_with_typos}\")\n",
        "print(f\"Corrected: {corrected_text}\")\n"
      ],
      "metadata": {
        "colab": {
          "base_uri": "https://localhost:8080/"
        },
        "id": "ytR94g5mpkav",
        "outputId": "dd0a6f27-4e36-4b5c-e5d4-e0a043188894"
      },
      "execution_count": 7,
      "outputs": [
        {
          "output_type": "stream",
          "name": "stdout",
          "text": [
            "Original: I havv a speling misstake in this sentnce.\n",
            "Corrected: I have a spelling mistake in this sentence.\n"
          ]
        }
      ]
    },
    {
      "cell_type": "markdown",
      "source": [
        "# 3.2 Spelling Check: Using pyspellchecker"
      ],
      "metadata": {
        "id": "Lb5ozI85p_Zi"
      }
    },
    {
      "cell_type": "code",
      "source": [
        "!pip install pyspellchecker"
      ],
      "metadata": {
        "id": "T6qsRfL6qHrC"
      },
      "execution_count": null,
      "outputs": []
    },
    {
      "cell_type": "code",
      "source": [
        "from spellchecker import SpellChecker\n",
        "\n",
        "def correct_spelling(text):\n",
        "    spell = SpellChecker()\n",
        "    words = text.split()\n",
        "\n",
        "    # Find misspelled words\n",
        "    misspelled = spell.unknown(words)\n",
        "\n",
        "    # Correct the misspelled words\n",
        "    corrected_words = [spell.correction(word) if word in misspelled else word for word in words]\n",
        "\n",
        "    return ' '.join(corrected_words)\n",
        "\n",
        "# Example usage\n",
        "text_with_typos = \"I havv a speling misstake in this sentnce.\"\n",
        "corrected_text = correct_spelling(text_with_typos)\n",
        "\n",
        "print(f\"Original: {text_with_typos}\")\n",
        "print(f\"Corrected: {corrected_text}\")\n"
      ],
      "metadata": {
        "colab": {
          "base_uri": "https://localhost:8080/"
        },
        "id": "mwdGUWyHqXg3",
        "outputId": "2ff5072b-34a5-4469-891e-006715187c17"
      },
      "execution_count": 9,
      "outputs": [
        {
          "output_type": "stream",
          "name": "stdout",
          "text": [
            "Original: I havv a speling misstake in this sentnce.\n",
            "Corrected: I have a spelling mistake in this sentence\n"
          ]
        }
      ]
    }
  ]
}